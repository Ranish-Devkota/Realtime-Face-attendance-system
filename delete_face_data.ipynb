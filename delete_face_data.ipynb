{
 "cells": [
  {
   "cell_type": "code",
   "execution_count": 6,
   "metadata": {},
   "outputs": [],
   "source": [
    "import face_recognition\n",
    "import cv2\n",
    "import os\n",
    "import numpy as np\n",
    "import pickle\n",
    "\n",
    "known_dir = \"C:/Users/Goku/Documents/jupyter_data/known_image\""
   ]
  },
  {
   "cell_type": "code",
   "execution_count": 7,
   "metadata": {},
   "outputs": [],
   "source": [
    "#load face data from pickle\n",
    "\n",
    "with open(os.path.join( known_dir, \"faceData.pickle\"), 'rb') as file:\n",
    "    names, faces = pickle.load(file)"
   ]
  },
  {
   "cell_type": "code",
   "execution_count": 8,
   "metadata": {},
   "outputs": [
    {
     "name": "stdout",
     "output_type": "stream",
     "text": [
      "Available attendee names: \n",
      "Gokarna\n",
      "Nirmala\n",
      "Saroj\n",
      "Tanka\n",
      "parsuram\n"
     ]
    }
   ],
   "source": [
    "print(\"Available attendee names: \")\n",
    "for name in names:\n",
    "    print(name)"
   ]
  },
  {
   "cell_type": "code",
   "execution_count": 9,
   "metadata": {},
   "outputs": [
    {
     "name": "stdout",
     "output_type": "stream",
     "text": [
      "Enter the name to remove attendence data.< q to cancel >: parsuram\n",
      "Are you want to delete parsuram's data.(yes/no) : yes\n",
      "All data removed successfully.\n"
     ]
    }
   ],
   "source": [
    "newnames = []\n",
    "newfaces = []\n",
    "\n",
    "del_name = input(\"Enter the name to remove attendence data.< q to cancel >: \")\n",
    "\n",
    "\n",
    "if del_name != 'q':\n",
    "    if del_name in names: # name available or not in list\n",
    "        conf = input(\"Are you want to delete {}'s data.(yes/no) : \".format(del_name))\n",
    "        if conf == 'yes':\n",
    "            for name, face in zip(names, faces):  # zib both lists together\n",
    "                if name != del_name:             # append all name as it is except deleted name's data\n",
    "                    newnames.append(name)\n",
    "                    newfaces.append(face)\n",
    "            #delete old data.\n",
    "            file = open(os.path.join( known_dir, \"faceData.pickle\"), 'w')\n",
    "            file.close()\n",
    "        \n",
    "            #dump new data\n",
    "            with open(os.path.join( known_dir, \"faceData.pickle\"), 'wb') as file:\n",
    "                pickle.dump([newnames, newfaces], file)\n",
    "            \n",
    "            #delete .jpg file also from known_dir\n",
    "            image_name = del_name + \".jpg\"\n",
    "            del_path = os.path.join(known_dir, image_name)\n",
    "            os.remove(del_path)\n",
    "            print(\"All data removed successfully.\")\n",
    "\n",
    "        else:\n",
    "            print(\"cancelled deleting data.\")\n",
    "    else:\n",
    "        print(\"Name is not in the list.!!\")"
   ]
  },
  {
   "cell_type": "code",
   "execution_count": null,
   "metadata": {},
   "outputs": [],
   "source": []
  }
 ],
 "metadata": {
  "kernelspec": {
   "display_name": "Python 3",
   "language": "python",
   "name": "python3"
  },
  "language_info": {
   "codemirror_mode": {
    "name": "ipython",
    "version": 3
   },
   "file_extension": ".py",
   "mimetype": "text/x-python",
   "name": "python",
   "nbconvert_exporter": "python",
   "pygments_lexer": "ipython3",
   "version": "3.8.6"
  }
 },
 "nbformat": 4,
 "nbformat_minor": 4
}
