{
 "cells": [
  {
   "cell_type": "code",
   "execution_count": 1,
   "metadata": {},
   "outputs": [],
   "source": [
    "import face_recognition\n",
    "import cv2\n",
    "import os\n",
    "import numpy as np\n",
    "import pickle\n",
    "\n",
    "known_dir = \"C:/Users/Goku/Documents/jupyter_data/known_image\""
   ]
  },
  {
   "cell_type": "code",
   "execution_count": 2,
   "metadata": {},
   "outputs": [],
   "source": [
    "#load face data from pickle\n",
    "\n",
    "with open(os.path.join( known_dir, \"faceData.pickle\"), 'rb') as file:\n",
    "    ids, names, faces, times = pickle.load(file)"
   ]
  },
  {
   "cell_type": "code",
   "execution_count": 3,
   "metadata": {},
   "outputs": [],
   "source": [
    "face_locations = []\n",
    "face_encodings = []\n",
    "\n",
    "\n",
    "cap = cv2.VideoCapture(1)\n",
    "\n",
    "while 1:\n",
    "    \n",
    "    _,img = cap.read()\n",
    "    \n",
    "    # for front camera:\n",
    "    img = cv2.rotate(img, cv2.ROTATE_90_COUNTERCLOCKWISE)\n",
    "    frame = cv2.flip(img, 1)\n",
    "\n",
    "    face_locations = face_recognition.face_locations(frame)\n",
    "    face_encodings = face_recognition.face_encodings(frame, face_locations)\n",
    "    \n",
    "    face_names = []\n",
    "    for face_encoding in face_encodings:\n",
    "\n",
    "        matches = face_recognition.compare_faces(faces, face_encoding)\n",
    "        name = \"Not recognize\"\n",
    "\n",
    "        face_distances = face_recognition.face_distance(faces, face_encoding)\n",
    "        best_match_index = np.argmin(face_distances)\n",
    "\n",
    "        if matches[best_match_index]:\n",
    "            name = \"ID: \" + ids[best_match_index]\n",
    "\n",
    "        face_names.append(name)\n",
    "    i = 0   \n",
    "    for y,w,h,x in face_locations:\n",
    "\n",
    "        cv2.rectangle(frame, (x,y), (w,h), (255,0,255), 2)\n",
    "        cv2.putText(frame, str(face_names[i]), (x, y-5), cv2.FONT_HERSHEY_DUPLEX, 1, (0,0,255), 2)\n",
    "\n",
    "        i += 1\n",
    "    \n",
    "    \n",
    "    new_frame = frame # cv2.resize(frame, (0, 0), fx=0.5, fy=0.5)\n",
    "    cv2.imshow('image',new_frame)\n",
    "\n",
    "    if cv2.waitKey(1) == ord('q'):\n",
    "            break\n",
    "cap.release()\n",
    "cv2.destroyAllWindows()"
   ]
  },
  {
   "cell_type": "code",
   "execution_count": null,
   "metadata": {},
   "outputs": [],
   "source": []
  },
  {
   "cell_type": "code",
   "execution_count": null,
   "metadata": {},
   "outputs": [],
   "source": []
  }
 ],
 "metadata": {
  "kernelspec": {
   "display_name": "Python 3",
   "language": "python",
   "name": "python3"
  },
  "language_info": {
   "codemirror_mode": {
    "name": "ipython",
    "version": 3
   },
   "file_extension": ".py",
   "mimetype": "text/x-python",
   "name": "python",
   "nbconvert_exporter": "python",
   "pygments_lexer": "ipython3",
   "version": "3.8.6"
  }
 },
 "nbformat": 4,
 "nbformat_minor": 4
}
